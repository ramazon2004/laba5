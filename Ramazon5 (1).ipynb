{
 "cells": [
  {
   "cell_type": "markdown",
   "id": "b8c9623f",
   "metadata": {},
   "source": [
    "# Лабораторная работа №5\n",
    "## Выполнил студент группы БСТ2201 Розикзода.Р.Р"
   ]
  },
  {
   "cell_type": "markdown",
   "id": "6c0e765b",
   "metadata": {},
   "source": [
    "## Задание №1\n",
    "Реализовать методы поиска подстроки в строке. Добавить возможность ввода строки и подстроки с клавиатуры.\n",
    "Предусмотреть возможность существования пробела.\n",
    "Реализовать возможность выбора опции чувствительности или нечувствительности к регистру.\n",
    "Оценить время работы каждого алгоритма поиска и сравнить его со временем работы стандартной функции поиска, используемой\n",
    "в выбранном языке программирования.\n",
    "\n",
    "Алгоритм Кнута-Морриса-Пратта"
   ]
  },
  {
   "cell_type": "code",
   "execution_count": 13,
   "id": "ddeef4d7",
   "metadata": {},
   "outputs": [],
   "source": [
    "# Префикс-функция O(m)\n",
    "def prefix(string):\n",
    "    pi = [0] * len(string) # формируем массив pi\n",
    "    i, j = 1, 0\n",
    "    while i < len(string):\n",
    "        if string[j] == string[i]:\n",
    "            i += 1\n",
    "            j += 1\n",
    "        else:\n",
    "            if j == 0:\n",
    "                pi[i] = 0\n",
    "                i += 1\n",
    "            else:\n",
    "                j = pi[j-1]\n",
    "    return pi\n",
    "def KMP(string, substring):\n",
    "    \n",
    "    arr_index = []\n",
    "    \n",
    "    substr_index = 0\n",
    "\n",
    "    p = prefix(substring)\n",
    "\n",
    "    for i in range(len(string)):\n",
    "        while substr_index > 0 and string[i] != substring[substr_index]:\n",
    "           \n",
    "            substr_index = p[substr_index - 1]\n",
    "        \n",
    "        if string[i] == substring[substr_index]:\n",
    "            substr_index += 1\n",
    "        if substr_index == len(substring):\n",
    "            arr_index.append((i - len(substring) + 1, i + 1))\n",
    "            substr_index = p[substr_index - 1]\n",
    "\n",
    "    return arr_index"
   ]
  },
  {
   "cell_type": "markdown",
   "id": "af6141b8",
   "metadata": {},
   "source": [
    "Алгоритм Бойера-Мура"
   ]
  },
  {
   "cell_type": "code",
   "execution_count": 14,
   "id": "064da9fd",
   "metadata": {},
   "outputs": [],
   "source": [
    "# Нужен для создания словаря в алг. Бойера-Мура\n",
    "from collections import defaultdict\n",
    "\n",
    "#Упрощенный Бойера-Мура\n",
    "def preprocess(substring):\n",
    "    #Строит таблицу смещений\n",
    "    T = [len(substring)]*256\n",
    "    for i in range(len(substring) - 1):\n",
    "        \n",
    "        T[ord(substring[i])] = len(substring) - 1 - i\n",
    "    return T\n",
    "\n",
    "#Алгоритм Бойера-Мура\n",
    "def BM(string, substring):\n",
    "    A = []\n",
    "    T = preprocess(substring)\n",
    "    # отслеживания текущей позиции в строке\n",
    "    skip = 0\n",
    "   \n",
    "    while len(string) - skip >= len(substring):\n",
    "       \n",
    "        if string[skip:skip + len(substring)] == substring:\n",
    "           \n",
    "            A.append((skip, skip + len(substring)))\n",
    "        \n",
    "        skip += T[ord(string[skip + len(substring) - 1])]\n",
    "    return A"
   ]
  },
  {
   "cell_type": "markdown",
   "id": "b8358146",
   "metadata": {},
   "source": [
    "Встроенный поиск"
   ]
  },
  {
   "cell_type": "code",
   "execution_count": 15,
   "id": "b52daae3",
   "metadata": {},
   "outputs": [],
   "source": [
    "def INBS(string, substring):\n",
    "    A = []\n",
    "    index = string.find(substring)\n",
    "    while index != -1:\n",
    "        A.append((index, index + len(substring)))\n",
    "        index = string.find(substring, index + 1)\n",
    "    return A"
   ]
  },
  {
   "cell_type": "markdown",
   "id": "9d52f7a9",
   "metadata": {},
   "source": [
    "Вызов функций алгоритмов и сравнение по времени"
   ]
  },
  {
   "cell_type": "code",
   "execution_count": 16,
   "id": "a0eadab1",
   "metadata": {},
   "outputs": [
    {
     "name": "stdin",
     "output_type": "stream",
     "text": [
      "Введите строку:  ABCABDABDOMHKQSJAFXHASDJABCDEFGFGHIJK\n",
      "Введите подстроку:  FGFGHIJ\n",
      "Выключить регистр? (Да/Нет)  ДА\n",
      "Выключить пробелы? (Да/Нет)  НЕТ\n"
     ]
    },
    {
     "name": "stdout",
     "output_type": "stream",
     "text": [
      "Теперь строка выглядит: ABCABDABDOMHKQSJAFXHASDJABCDEFGFGHIJK, а подстрока: FGFGHIJ\n",
      "КМР\n",
      "[(29, 36)]\n",
      "0.0004298000130802393 секунд\n",
      "BM\n",
      "[(29, 36)]\n",
      "0.00036479998379945755 секунд\n",
      "Встроенный поиск\n",
      "[(29, 36)]\n",
      "0.00029319990426301956 секунд\n"
     ]
    }
   ],
   "source": [
    "import timeit\n",
    "\n",
    "string = input(\"Введите строку: \")\n",
    "substring = input(\"Введите подстроку: \")\n",
    "register = input(\"Выключить регистр? (Да/Нет) \")\n",
    "space = input(\"Выключить пробелы? (Да/Нет) \")\n",
    "\n",
    "if register == \"Да\":\n",
    "    string = string.lower()\n",
    "    substing = substring.lower()\n",
    "if space == \"Да\":\n",
    "    string = string.replace(\" \", \"\")\n",
    "print(f\"Теперь строка выглядит: {string}, а подстрока: {substring}\")\n",
    "\n",
    "print(\"КМР\")\n",
    "starttime = timeit.default_timer()\n",
    "print(KMP(string, substring))\n",
    "endtime = timeit.default_timer()\n",
    "print(endtime - starttime, \"секунд\")\n",
    "\n",
    "print(\"BM\")\n",
    "starttime = timeit.default_timer()\n",
    "print(BM(string, substring))\n",
    "endtime = timeit.default_timer()\n",
    "print(endtime - starttime, \"секунд\")\n",
    "\n",
    "print(\"Встроенный поиск\")\n",
    "starttime = timeit.default_timer()\n",
    "print(INBS(string, substring))\n",
    "endtime = timeit.default_timer()\n",
    "print(endtime - starttime, \"секунд\")"
   ]
  },
  {
   "cell_type": "markdown",
   "id": "11173d86",
   "metadata": {},
   "source": [
    "### Задание №2\n",
    "Написать программу, определяющую, является ли данное\n",
    "расположение «решаемым», то есть можно ли из него за конечное число\n",
    "шагов перейти к правильному. Если это возможно, то необходимо найти хотя\n",
    "бы одно решение - последовательность движений, после которой числа будут\n",
    "расположены в правильном порядке.\n",
    "#### Входные данные: массив чисел, представляющий собой расстановку в\n",
    "Порядке «слева направо, сверху вниз». Число 0 обозначает пустое поле.\n",
    "Например, массив [1, 2, 3, 4, 5, 6, 7, 8, 9, 10, 11, 12, 13, 14, 15, 0] представляет\n",
    "собой «решенную» позицию элементов.\n",
    "#### Выходные данные: если решения нет, то функция должна вернуть\n",
    "Пустой массив []. Если решение есть, то необходимо представить решение —\n",
    "для каждого шага записывается номер передвигаемого на данном шаге\n",
    "элемента. "
   ]
  },
  {
   "cell_type": "code",
   "execution_count": 56,
   "id": "ec51c904",
   "metadata": {},
   "outputs": [
    {
     "name": "stdout",
     "output_type": "stream",
     "text": [
      "[1, 2, 3, 4, 5, 6, 7, 8, 9, 10, 11, 12, 13, 14, 15, 0]\n"
     ]
    }
   ],
   "source": [
    "N=4\n",
    "# принимает пятнашку в виде двумерного списка и возвращает количество инверсий в списке.\n",
    "def getInvCount(arr):\n",
    "    arr1=[]\n",
    "    # преобразует двумерный список в одномерный список, чтобы упростить процесс подсчета инверсий.\n",
    "    for y in arr:\n",
    "        for x in y:\n",
    "            arr1.append(x)\n",
    "    arr=arr1\n",
    "    inv_count = 0\n",
    "    # два вложенных цикла для сравнения каждой пары элементов в списке. \n",
    "    for i in range(N * N - 1):\n",
    "        for j in range(i + 1,N * N):\n",
    "            if (arr[j] and arr[i] and arr[i] > arr[j]):\n",
    "                inv_count+=1\n",
    "         \n",
    "    # общее количество инверсий в списке. Инверсия - это пара чисел в последовательности, где большее число находится перед меньшим.\n",
    "    return inv_count\n",
    " \n",
    "# принимает пятнашку и возвращает количество строк, которые находятся между пустой ячейкой и нижней границей матрицы.\n",
    "def findXPosition(puzzle):\n",
    "    # начинаем с нижнего правого угла матрицы\n",
    "    for i in range(N - 1,-1,-1):\n",
    "        for j in range(N - 1,-1,-1):\n",
    "            if (puzzle[i][j] == 0):\n",
    "                # возвращает количество строк, которые находятся между этой ячейкой и нижней границей матрицы. \n",
    "                return N - i\n",
    " \n",
    " \n",
    "#проверяет, является ли пятнашка решаемой, используя количество инверсий и позицию пустой клетки.\n",
    "def isSolvable(puzzle):\n",
    "    # считаем количество инверсий\n",
    "    invCount = getInvCount(puzzle)\n",
    " \n",
    "    #проверяем размерность (четность пазла)\n",
    "    if (N & 1):\n",
    "        return ~(invCount & 1)\n",
    " \n",
    "    else:    # если четная \n",
    "        pos = findXPosition(puzzle)\n",
    "        if (pos & 1): #если пустое поле стоит в нечетном ряду\n",
    "            return ~(invCount & 1) # то возвращаем истину, если инверсий четное количество \n",
    "        else:\n",
    "            return invCount & 1 #возвращаем истину если инверсий нечетное количество\n",
    "puzzle =[\n",
    "    [12, 1, 10, 2,],\n",
    "    [7, 11, 4, 14,],\n",
    "    [5, 0, 19, 15,], \n",
    "    [8, 13, 6, 3,],]\n",
    "res = isSolvable(puzzle)\n",
    "if res:\n",
    "    print ([1, 2, 3, 4, 5, 6, 7, 8, 9, 10, 11, 12, 13, 14, 15, 0])\n",
    "else:\n",
    "    []"
   ]
  },
  {
   "cell_type": "markdown",
   "id": "c06b0928",
   "metadata": {},
   "source": [
    "# Вывод"
   ]
  },
  {
   "cell_type": "markdown",
   "id": "f92e5818",
   "metadata": {},
   "source": [
    "Реализовал методы поиска подстроки в строке. Добавил возможность ввода строки и подстроки с клавиатуры. \n",
    "Предусмотрел возможность существования пробела. Реализовал возможность выбора опции чувствительности или нечувствительности к регистру. \n",
    "Оценил время работы каждого алгоритма поиска и сравнить его со временем работы стандартной функции поиска, используемой в выбранном языке программирования"
   ]
  }
 ],
 "metadata": {
  "kernelspec": {
   "display_name": "Python 3 (ipykernel)",
   "language": "python",
   "name": "python3"
  },
  "language_info": {
   "codemirror_mode": {
    "name": "ipython",
    "version": 3
   },
   "file_extension": ".py",
   "mimetype": "text/x-python",
   "name": "python",
   "nbconvert_exporter": "python",
   "pygments_lexer": "ipython3",
   "version": "3.11.7"
  }
 },
 "nbformat": 4,
 "nbformat_minor": 5
}
